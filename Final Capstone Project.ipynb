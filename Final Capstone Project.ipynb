{
 "cells": [
  {
   "cell_type": "markdown",
   "metadata": {
    "collapsed": true
   },
   "source": [
    "# Final Capstone Projects\n",
    "\n",
    "Please refer to the [**Final Capstone Projects**](http://nbviewer.jupyter.org/github/jmportilla/Complete-Python-Bootcamp/tree/master/Final%20Capstone%20Projects/) folder to get all the info on final capstone project ideas and possible solutions!"
   ]
  },
  {
   "cell_type": "markdown",
   "metadata": {
    "collapsed": true
   },
   "source": [
    "# Fibonacci Seq"
   ]
  },
  {
   "cell_type": "code",
   "execution_count": 2,
   "metadata": {
    "collapsed": false
   },
   "outputs": [],
   "source": [
    "def fibon(iters):\n",
    "    a = [];\n",
    "    x = 1;\n",
    "    y = 0;\n",
    "    z = 0;\n",
    "    for i in range(iters):\n",
    "        y += x;\n",
    "        a.append(y);\n",
    "        x = z;\n",
    "        z = y;\n",
    "    return a"
   ]
  },
  {
   "cell_type": "code",
   "execution_count": 3,
   "metadata": {
    "collapsed": false
   },
   "outputs": [
    {
     "data": {
      "text/plain": [
       "[1, 1, 2, 3, 5, 8, 13, 21, 34, 55]"
      ]
     },
     "execution_count": 3,
     "metadata": {},
     "output_type": "execute_result"
    }
   ],
   "source": [
    "fibon(10)"
   ]
  },
  {
   "cell_type": "markdown",
   "metadata": {},
   "source": [
    "# Prime factors"
   ]
  },
  {
   "cell_type": "code",
   "execution_count": null,
   "metadata": {
    "collapsed": false
   },
   "outputs": [],
   "source": [
    "def prime(n):\n",
    "    prime = [];\n",
    "    for i in range(n):\n",
    "        isPrime = 1;\n",
    "        if i != 0:\n",
    "            for j in range(i):\n",
    "                if j > 1:\n",
    "                    if i % j == 0:\n",
    "                        isPrime = 0;\n",
    "                        break\n",
    "        if isPrime:\n",
    "            prime.append(i);\n",
    "    return prime"
   ]
  },
  {
   "cell_type": "code",
   "execution_count": null,
   "metadata": {
    "collapsed": false
   },
   "outputs": [],
   "source": [
    "prime(30)"
   ]
  },
  {
   "cell_type": "markdown",
   "metadata": {
    "collapsed": true
   },
   "source": [
    "# Asking for primes"
   ]
  },
  {
   "cell_type": "code",
   "execution_count": 1,
   "metadata": {
    "collapsed": false
   },
   "outputs": [],
   "source": [
    "from __future__ import print_function\n",
    "from IPython.display import clear_output\n",
    "def gimmiePrimes():\n",
    "    number = 1;\n",
    "    play = 1;\n",
    "    response = '';\n",
    "    while play:\n",
    "        while not (response == 'yes' or response == 'no'):\n",
    "            response = raw_input('Do you want another prime? (Yes or No)').lower();\n",
    "            clear_output();\n",
    "        if response == 'yes':\n",
    "            prime = 1;\n",
    "            go = 1\n",
    "            number += 1;\n",
    "            while go == 1:\n",
    "                for i in range(number):\n",
    "                    if i != 0:\n",
    "                        for j in range(i):\n",
    "                            if j > 1:\n",
    "                                if i % j == 0:\n",
    "                                    prime = 0;\n",
    "                                    break\n",
    "                if prime == 0:\n",
    "                    number += 1;\n",
    "                else:\n",
    "                    print(number);\n",
    "                    response = '';\n",
    "                    break\n",
    "        else:\n",
    "            print(\"That's all the primes youre getting today!\");\n",
    "            play = 0;"
   ]
  },
  {
   "cell_type": "code",
   "execution_count": null,
   "metadata": {
    "collapsed": false
   },
   "outputs": [],
   "source": [
    "gimmiePrimes()"
   ]
  },
  {
   "cell_type": "code",
   "execution_count": null,
   "metadata": {
    "collapsed": true
   },
   "outputs": [],
   "source": [
    "prime = 0;\n",
    "number = 7;\n",
    "\n",
    "while prime == 0:\n",
    "    for i in range(number):\n",
    "        if i != 0:\n",
    "            for j in range(i):\n",
    "                if j > 1:\n",
    "                    if i % j == 0:\n",
    "                        break\n",
    "    if prime != 1:\n",
    "        number += 1;\n",
    "    else:\n",
    "        print number;\n",
    "        break"
   ]
  },
  {
   "cell_type": "code",
   "execution_count": null,
   "metadata": {
    "collapsed": true
   },
   "outputs": [],
   "source": []
  }
 ],
 "metadata": {
  "kernelspec": {
   "display_name": "Python 2",
   "language": "python",
   "name": "python2"
  },
  "language_info": {
   "codemirror_mode": {
    "name": "ipython",
    "version": 2
   },
   "file_extension": ".py",
   "mimetype": "text/x-python",
   "name": "python",
   "nbconvert_exporter": "python",
   "pygments_lexer": "ipython2",
   "version": "2.7.13"
  }
 },
 "nbformat": 4,
 "nbformat_minor": 0
}
