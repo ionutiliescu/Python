{
 "cells": [
  {
   "cell_type": "code",
   "execution_count": 10,
   "metadata": {
    "collapsed": true
   },
   "outputs": [],
   "source": [
    "from IPython.display import clear_output\n",
    "import re\n",
    "import random\n",
    "\n",
    "class Player(object):\n",
    "    \n",
    "    def __init__(self, name, bank = 100, score = ''):\n",
    "        self.name = name\n",
    "        self.bank = bank\n",
    "        self.score = score\n",
    "    \n",
    "    def add(self, amount):\n",
    "        self.bank += amount\n",
    "    \n",
    "    def minus(self, amount):\n",
    "        self.bank -= amount\n",
    "\n",
    "    "
   ]
  },
  {
   "cell_type": "code",
   "execution_count": 11,
   "metadata": {
    "collapsed": true
   },
   "outputs": [],
   "source": [
    "def current_score(player):\n",
    "    sum = 0\n",
    "    for i in player.split():\n",
    "        sum += int(i)\n",
    "    return sum"
   ]
  },
  {
   "cell_type": "code",
   "execution_count": 12,
   "metadata": {
    "collapsed": true
   },
   "outputs": [],
   "source": [
    "def get_name():\n",
    "    name = ' '\n",
    "    while not ((len(name) >= 2) and re.match(\"^[a-z]*$\", name)):\n",
    "        name = raw_input('Please put in your name: ').lower()\n",
    "        clear_output()\n",
    "    Player.name = name\n",
    "    print 'Welcome, %s!' %(name) "
   ]
  },
  {
   "cell_type": "code",
   "execution_count": 13,
   "metadata": {
    "collapsed": false
   },
   "outputs": [],
   "source": [
    "def game_area(player, dealer, bet):\n",
    "    clear_output()\n",
    "    print 'Total balance:', Player.bank\n",
    "    print 'Current bet:', bet\n",
    "    print \"Dealer's hand:\", dealer, '- score', current_score(dealer)\n",
    "    print  Player.name + \"'s hand:\", player, '- score', current_score(player)"
   ]
  },
  {
   "cell_type": "code",
   "execution_count": 14,
   "metadata": {
    "collapsed": true
   },
   "outputs": [],
   "source": [
    "def hit_card():\n",
    "    number = 'Ace 2 3 4 5 6 7 8 9 10 Jack Queen King'\n",
    "    shape = 'Hearts Spades Diamonds Clubs'\n",
    "    numberR = random.choice(number.split())\n",
    "    shapeR = random.choice(shape.split())\n",
    "    return numberR + ' of ' + shapeR"
   ]
  },
  {
   "cell_type": "code",
   "execution_count": 20,
   "metadata": {
    "collapsed": true
   },
   "outputs": [],
   "source": [
    "def status(score):\n",
    "    if score > 21:\n",
    "        return False\n",
    "    elif score == 21:\n",
    "        return True"
   ]
  },
  {
   "cell_type": "code",
   "execution_count": 16,
   "metadata": {
    "collapsed": false
   },
   "outputs": [],
   "source": [
    "def action():\n",
    "    action = ''\n",
    "    while not (action == 'hit' or action == 'stay'):\n",
    "        action = raw_input('Hit or Stay?').lower()\n",
    "    if action == 'hit':\n",
    "        return True\n",
    "    else:\n",
    "        return False"
   ]
  },
  {
   "cell_type": "code",
   "execution_count": 17,
   "metadata": {
    "collapsed": false
   },
   "outputs": [],
   "source": [
    "def card_score(card):\n",
    "    cardS = card.split()[0]\n",
    "    if cardS == 'Ace':\n",
    "        return '11'\n",
    "    elif cardS == 'Jack' or cardS == 'Queen' or cardS == 'King':\n",
    "        return '10'\n",
    "    else:\n",
    "        return cardS"
   ]
  },
  {
   "cell_type": "code",
   "execution_count": 31,
   "metadata": {
    "collapsed": false
   },
   "outputs": [],
   "source": [
    "def get_bet():\n",
    "    bet = '0'\n",
    "    while int(bet) <= 0:\n",
    "        while True:\n",
    "            try:\n",
    "                bet = int(raw_input('Please insert your bet: '))\n",
    "            except:\n",
    "                print 'Please insert a number'\n",
    "                continue\n",
    "            else:\n",
    "                break\n",
    "    return bet"
   ]
  },
  {
   "cell_type": "code",
   "execution_count": 36,
   "metadata": {
    "collapsed": false
   },
   "outputs": [],
   "source": [
    "def replay():\n",
    "    return raw_input('Do you want to play again? Enter Yes or No: ').lower().startswith('y')"
   ]
  },
  {
   "cell_type": "code",
   "execution_count": null,
   "metadata": {
    "collapsed": false
   },
   "outputs": [],
   "source": [
    "print '~~~ Blackjack 21 - Game starting ~~~'\n",
    "Player.bank = 1000\n",
    "get_name()\n",
    "\n",
    "while True:\n",
    "    clear_output()\n",
    "    bet = get_bet()\n",
    "    Player.bank -= bet\n",
    "    Player.score, dealer = ('','')\n",
    "    game_area(Player.score, dealer, bet)\n",
    "    game_on = True\n",
    "    done = False\n",
    "    still_on = True\n",
    "    game_dealer = True\n",
    "    done = False\n",
    "\n",
    "    while game_on and Player.bank > 0:\n",
    "        if action():\n",
    "            card = hit_card()\n",
    "            Player.score += ' ' + card_score(card)\n",
    "            game_area(Player.score, dealer, bet)\n",
    "            print card\n",
    "            if status(current_score(Player.score)) == True:\n",
    "                print 'Congratulations, you won'\n",
    "                Player.bank += bet * 2.5\n",
    "            elif status(current_score(Player.score)) == False:\n",
    "                print 'Too much, you lost!'\n",
    "                break\n",
    "        else:\n",
    "            done = True\n",
    "\n",
    "        if done == True:\n",
    "            while game_dealer:\n",
    "                card = hit_card()\n",
    "                dealer += ' ' + card_score(card)\n",
    "                game_area(Player.score, dealer, bet)\n",
    "\n",
    "                if current_score(dealer) >= 16 or status(current_score(dealer)) == True:\n",
    "                    game_dealer = False\n",
    "\n",
    "                elif status(current_score(dealer)) == False:\n",
    "                    print 'Dealer has lost, you won!'\n",
    "                    Player.bank =+ bet * 2\n",
    "                    game_dealer = False\n",
    "                    still_on = False\n",
    "            if still_on:\n",
    "                if current_score(dealer) == current_score(Player.score):\n",
    "                    print \"It's a draw\"\n",
    "                    Player.bank =+ bet\n",
    "                elif current_score(dealer) > current_score(Player.score):\n",
    "                    print 'Dealer has won, you lost'\n",
    "                elif current_score(dealer) < current_score(Player.score):\n",
    "                    print 'You have won!'\n",
    "                    Player.bank =+ bet * 2\n",
    "    if Player.bank <= 0:\n",
    "        print \"You're out of cash!\"\n",
    "        break\n",
    "    elif not replay():\n",
    "        break\n"
   ]
  },
  {
   "cell_type": "code",
   "execution_count": null,
   "metadata": {
    "collapsed": true
   },
   "outputs": [],
   "source": []
  }
 ],
 "metadata": {
  "kernelspec": {
   "display_name": "Python 2",
   "language": "python",
   "name": "python2"
  },
  "language_info": {
   "codemirror_mode": {
    "name": "ipython",
    "version": 2
   },
   "file_extension": ".py",
   "mimetype": "text/x-python",
   "name": "python",
   "nbconvert_exporter": "python",
   "pygments_lexer": "ipython2",
   "version": "2.7.13"
  }
 },
 "nbformat": 4,
 "nbformat_minor": 2
}
